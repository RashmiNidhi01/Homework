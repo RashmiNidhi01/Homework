{
 "metadata": {
  "language_info": {
   "codemirror_mode": {
    "name": "ipython",
    "version": 3
   },
   "file_extension": ".py",
   "mimetype": "text/x-python",
   "name": "python",
   "nbconvert_exporter": "python",
   "pygments_lexer": "ipython3",
   "version": "3.8.5-final"
  },
  "orig_nbformat": 2,
  "kernelspec": {
   "name": "python38532bit8914ae31e7a04d36acf94aac1621671d",
   "display_name": "Python 3.8.5 32-bit"
  }
 },
 "nbformat": 4,
 "nbformat_minor": 2,
 "cells": [
  {
   "cell_type": "code",
   "execution_count": 4,
   "metadata": {
    "tags": []
   },
   "outputs": [
    {
     "output_type": "stream",
     "name": "stdout",
     "text": "Number                            Square                Cube\n                   0                   0                   0\n                   1                   1                   1\n                   2                   4                   8\n                   3                   9                  27\n                   4                  16                  64\n                   5                  25                 125\n"
    }
   ],
   "source": [
    "#Q1-Write code that compute the squares and cubes for numbers from 0 to 5output as the following: each cell occupies 20 spaces and right-aligned.\n",
    "print('{0:<20}{1:>20}{2:>20}'.format(\"Number\",\"Square\",\"Cube\"))\n",
    "for i in range(0,6):\n",
    "    print('{0:>20}{1:>20}{2:>20}'.format(i,i*i,i*i*i))"
   ]
  },
  {
   "cell_type": "code",
   "execution_count": 6,
   "metadata": {
    "tags": []
   },
   "outputs": [
    {
     "output_type": "stream",
     "name": "stdout",
     "text": "Coverted celsius to Fahrenheit values \n -40.0 \n 32.0 \n 104.0 \n 212.0\n"
    }
   ],
   "source": [
    "#Q2 The formula to covert a Celsius temperature to a Fahrenheit temperature is F = 9 / 5 * C + 32\n",
    "#Write code that use this formula to calculate and print the Fahrenheit temperature for\n",
    "#Celsius value of -40, 0, 40 and 100.\n",
    "F1=(9/5)*(-40)+32 #formula for converting celsius to Fahrenheit\n",
    "F2=(9/5)*(0)+32\n",
    "F3=(9/5)*(40)+32\n",
    "F4=(9/5)*(100)+32\n",
    "print('Coverted celsius to Fahrenheit values','\\n',F1,'\\n',F2,'\\n',F3,'\\n',F4)# displaying the output using the formula for F1-F4, where '\\n' means line break"
   ]
  },
  {
   "cell_type": "code",
   "execution_count": 5,
   "metadata": {
    "tags": []
   },
   "outputs": [
    {
     "output_type": "stream",
     "name": "stdout",
     "text": "The sum is 7,000\nThe Average is 2,333.33\n"
    }
   ],
   "source": [
    "#Q3 Write code that input three integers from the user. Then print the sum and average ofthe numbers. The sum should use comma (,) separator. The average uses commaseparate and has two decimal places. Each result is in a different line. If the input is 1000, 2000, 4000. The outputs are\n",
    "#The sum is 7,000\n",
    "#The average is 2,333.33\n",
    "a=1000\n",
    "b=2000\n",
    "c=4000\n",
    "Total_Value = a+b+c\n",
    "Average_Value= (a+b+c)/3\n",
    "Total_Value\n",
    "Average_Value\n",
    "print('The sum is','{0:,d}'.format(Total_Value))\n",
    "print('The Average is','{0:,.2f}'.format(Average_Value)) \n"
   ]
  },
  {
   "cell_type": "code",
   "execution_count": null,
   "metadata": {},
   "outputs": [],
   "source": []
  }
 ]
}